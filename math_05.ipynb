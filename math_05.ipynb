{
 "metadata": {
  "language_info": {
   "codemirror_mode": {
    "name": "ipython",
    "version": 3
   },
   "file_extension": ".py",
   "mimetype": "text/x-python",
   "name": "python",
   "nbconvert_exporter": "python",
   "pygments_lexer": "ipython3",
   "version": "3.7.2"
  },
  "orig_nbformat": 2,
  "kernelspec": {
   "name": "python37264bit756f231e437a4db2b965934ccae74f70",
   "display_name": "Python 3.7.2 64-bit"
  },
  "metadata": {
   "interpreter": {
    "hash": "aee8b7b246df8f9039afb4144a1f6fd8d2ca17a180786b69acc140d282b71a49"
   }
  }
 },
 "nbformat": 4,
 "nbformat_minor": 2,
 "cells": [
  {
   "source": [
    "## Домашнее задание \"Производная функции нескольких аргументов\""
   ],
   "cell_type": "markdown",
   "metadata": {}
  },
  {
   "cell_type": "code",
   "execution_count": 1,
   "metadata": {},
   "outputs": [],
   "source": [
    "from sympy import *\n",
    "import numpy as np\n",
    "from scipy.optimize import approx_fprime, minimize"
   ]
  },
  {
   "source": [
    "### Уровень 0:\n",
    "\n",
    "Посчитайте частные производные функций:\n",
    "\n",
    "1) $f(x,y)=2x^2y^3 + 1/x + y^2x + 7$, а для этой функции также градиент в точке $(1,2)$\n",
    "\n",
    "2) $f(x,y)=x^2y - sin(xy) + cos(x^2) + 6y$"
   ],
   "cell_type": "markdown",
   "metadata": {}
  },
  {
   "source": [
    "Посчитаем частные производные первой функции:\n",
    "\n",
    "$f'_x = 2 \\cdot 2x \\cdot y^3 - \\frac{1}{x^2} + y^2 = 4xy^3 - \\frac{1}{x^2} + y^2$\n",
    "\n",
    "$f'_y = 2 \\cdot x^2 \\cdot 3y^2 + 2y \\cdot x = 6x^2y^2 + 2xy$\n",
    "\n",
    "Т.к. нужно рассчитать градиент функции в точке (1,2), подставим в частные производные значения: Х=1, У=2.\n",
    "\n",
    "$f'_x = 4\\cdot1\\cdot2^3 - \\frac{1}{1^2} + 2^2 = 4\\cdot8 - 1 + 4 = 32 +3 = 35$\n",
    "\n",
    "$f'_y = 6\\cdot1^2\\cdot2^2 + 2\\cdot1\\cdot2 = 6\\cdot4 + 4 = 28$\n",
    "\n",
    "Таким образом, градиент функции в точке (1,2) равен $[35, 28]$."
   ],
   "cell_type": "markdown",
   "metadata": {}
  },
  {
   "source": [
    "Посчитаем частные производные второй функции:\n",
    "\n",
    "$f'_x = 2x \\cdot y - cos(xy) \\cdot y - sin(x^2) \\cdot 2x = 2xy - ycos(xy) - 2xsin(x^2)$\n",
    "\n",
    "$f'_y = x^2 - cos(xy) \\cdot x + 6 = x^2 - xcos(xy) +6$"
   ],
   "cell_type": "markdown",
   "metadata": {}
  },
  {
   "source": [
    "Проверим все вычисления, начнем с частных производных."
   ],
   "cell_type": "markdown",
   "metadata": {}
  },
  {
   "cell_type": "code",
   "execution_count": 2,
   "metadata": {},
   "outputs": [],
   "source": [
    "# зададим символьные переменные\n",
    "\n",
    "x, y = symbols('x y')"
   ]
  },
  {
   "cell_type": "code",
   "execution_count": 3,
   "metadata": {},
   "outputs": [],
   "source": [
    "# запишем первую функцию\n",
    "\n",
    "f_1 = 2*x**2*y**3 + 1/x + y**2*x + 7"
   ]
  },
  {
   "cell_type": "code",
   "execution_count": 4,
   "metadata": {},
   "outputs": [
    {
     "output_type": "execute_result",
     "data": {
      "text/plain": [
       "4*x*y**3 + y**2 - 1/x**2"
      ],
      "text/latex": "$\\displaystyle 4 x y^{3} + y^{2} - \\frac{1}{x^{2}}$"
     },
     "metadata": {},
     "execution_count": 4
    }
   ],
   "source": [
    "# вычислим её частную производную по Х\n",
    "\n",
    "f_1_dx = diff(f_1, x)\n",
    "f_1_dx"
   ]
  },
  {
   "cell_type": "code",
   "execution_count": 5,
   "metadata": {},
   "outputs": [
    {
     "output_type": "execute_result",
     "data": {
      "text/plain": [
       "6*x**2*y**2 + 2*x*y"
      ],
      "text/latex": "$\\displaystyle 6 x^{2} y^{2} + 2 x y$"
     },
     "metadata": {},
     "execution_count": 5
    }
   ],
   "source": [
    "# и по У\n",
    "\n",
    "f_1_dy = diff(f_1, y)\n",
    "f_1_dy"
   ]
  },
  {
   "cell_type": "code",
   "execution_count": 6,
   "metadata": {},
   "outputs": [],
   "source": [
    "# запишем вторую функцию\n",
    "\n",
    "f_2 = x**2*y - sin(x*y) + cos(x**2) + 6*y"
   ]
  },
  {
   "cell_type": "code",
   "execution_count": 7,
   "metadata": {},
   "outputs": [
    {
     "output_type": "execute_result",
     "data": {
      "text/plain": [
       "2*x*y - 2*x*sin(x**2) - y*cos(x*y)"
      ],
      "text/latex": "$\\displaystyle 2 x y - 2 x \\sin{\\left(x^{2} \\right)} - y \\cos{\\left(x y \\right)}$"
     },
     "metadata": {},
     "execution_count": 7
    }
   ],
   "source": [
    "# вычислим частную производную по Х\n",
    "\n",
    "f_2_dx = diff(f_2, x)\n",
    "f_2_dx"
   ]
  },
  {
   "cell_type": "code",
   "execution_count": 8,
   "metadata": {},
   "outputs": [
    {
     "output_type": "execute_result",
     "data": {
      "text/plain": [
       "x**2 - x*cos(x*y) + 6"
      ],
      "text/latex": "$\\displaystyle x^{2} - x \\cos{\\left(x y \\right)} + 6$"
     },
     "metadata": {},
     "execution_count": 8
    }
   ],
   "source": [
    "# и по У\n",
    "\n",
    "f_2_dy = diff(f_2, y)\n",
    "f_2_dy"
   ]
  },
  {
   "source": [
    "Рассчитаем градиент для первой функции."
   ],
   "cell_type": "markdown",
   "metadata": {}
  },
  {
   "cell_type": "code",
   "execution_count": 9,
   "metadata": {},
   "outputs": [],
   "source": [
    "# определим исходную функцию (Х - это x[0], У - это x[1])\n",
    "\n",
    "def function(x):\n",
    "    return 2*x[0]**2*x[1]**3 + 1/x[0] + x[1]**2*x[0] + 7"
   ]
  },
  {
   "cell_type": "code",
   "execution_count": 10,
   "metadata": {},
   "outputs": [
    {
     "output_type": "execute_result",
     "data": {
      "text/plain": [
       "array([35., 28.])"
      ]
     },
     "metadata": {},
     "execution_count": 10
    }
   ],
   "source": [
    "# зададим координаты точки (1,2) в виде массива и рассчитаем градиент\n",
    "# (величина погрешности пусть будет равна 1е-9)\n",
    "\n",
    "x = np.array([1,2])\n",
    "approx_fprime(x, function, 1e-9)"
   ]
  },
  {
   "source": [
    "Результаты расчета вручную подтвердились. И т.к. значения градиента получились положительные, это означает, что функция в точке (1,2) возрастает как по оси Х, так и по У (причем по Х - круче)."
   ],
   "cell_type": "markdown",
   "metadata": {}
  },
  {
   "source": [
    "### Уровень 1:\n",
    "\n",
    "Градиентный спуск своими руками:"
   ],
   "cell_type": "markdown",
   "metadata": {}
  },
  {
   "cell_type": "code",
   "execution_count": 11,
   "metadata": {},
   "outputs": [],
   "source": [
    "# задана функция\n",
    "\n",
    "def f(x):\n",
    "    return (x[0]**2) + (x[1]**2)"
   ]
  },
  {
   "cell_type": "code",
   "execution_count": 12,
   "metadata": {},
   "outputs": [],
   "source": [
    "# а также массив Х и шаг градиентного спуска\n",
    "\n",
    "x = np.array([100, 200])\n",
    "learning_rate = 0.1"
   ]
  },
  {
   "cell_type": "code",
   "execution_count": 13,
   "metadata": {},
   "outputs": [],
   "source": [
    "# рассчитаем по формуле градиентный спуск за 100 заданных шагов\n",
    "\n",
    "for i in range(100):\n",
    "    grad = approx_fprime(x, f, 1e-8)\n",
    "    x = x - learning_rate * grad"
   ]
  },
  {
   "cell_type": "code",
   "execution_count": 14,
   "metadata": {},
   "outputs": [
    {
     "output_type": "stream",
     "name": "stdout",
     "text": [
      "Минимум достигается в:  [1.53703462e-08 3.57407209e-08]\nЗначение функции в минимуме:  1.5136466716686949e-15\n"
     ]
    }
   ],
   "source": [
    "print(\"Минимум достигается в: \", x)\n",
    "print(\"Значение функции в минимуме: \", f(x))"
   ]
  },
  {
   "source": [
    "Проверка с помощью встроенной функции numpy:"
   ],
   "cell_type": "markdown",
   "metadata": {}
  },
  {
   "source": [
    "Найдем минимум заданной функции с помощью функции minimize модуля scipy.optimize"
   ],
   "cell_type": "markdown",
   "metadata": {}
  },
  {
   "cell_type": "code",
   "execution_count": 15,
   "metadata": {},
   "outputs": [
    {
     "output_type": "stream",
     "name": "stdout",
     "text": [
      "Проверка: минимум в:  [1.53703462e-08 3.57407209e-08]\nПроверка: значение функции в этой точке:  1.5136466716686949e-15\n"
     ]
    }
   ],
   "source": [
    "check = minimize(f, x, method='nelder-mead', tol=1e-8)\n",
    "\n",
    "print('Проверка: минимум в: ', check.x)\n",
    "print('Проверка: значение функции в этой точке: ', check.fun)"
   ]
  },
  {
   "cell_type": "code",
   "execution_count": null,
   "metadata": {},
   "outputs": [],
   "source": []
  }
 ]
}